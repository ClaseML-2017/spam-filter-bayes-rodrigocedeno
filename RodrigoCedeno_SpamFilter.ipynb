{
 "cells": [
  {
   "cell_type": "markdown",
   "metadata": {},
   "source": [
    "# Spam Filter using Continuous Naive Bayes\n",
    "\n",
    "Rodrigo Cedeno Jimenez <br />\n",
    "Tarea 03 <br />\n",
    "Machine Learning"
   ]
  },
  {
   "cell_type": "markdown",
   "metadata": {},
   "source": [
    "### Importamos librerías"
   ]
  },
  {
   "cell_type": "code",
   "execution_count": 33,
   "metadata": {
    "collapsed": true
   },
   "outputs": [],
   "source": [
    "# Importar librerías\n",
    "import pandas as pd\n",
    "import numpy as np\n",
    "from sklearn.model_selection import train_test_split\n",
    "from sklearn.metrics import confusion_matrix\n",
    "from scipy.stats import norm\n",
    "from sklearn import preprocessing\n",
    "from random import random"
   ]
  },
  {
   "cell_type": "markdown",
   "metadata": {},
   "source": [
    "### Importamos base de datos"
   ]
  },
  {
   "cell_type": "code",
   "execution_count": 34,
   "metadata": {
    "collapsed": true
   },
   "outputs": [],
   "source": [
    "df = pd.read_csv('Archivos_Ejercicio/spambase.data',header=None)"
   ]
  },
  {
   "cell_type": "markdown",
   "metadata": {},
   "source": [
    "### Dividimos muestra en Training y Testing. Por regla de dedo Training es 75% y Testing 25%"
   ]
  },
  {
   "cell_type": "code",
   "execution_count": 65,
   "metadata": {
    "collapsed": true
   },
   "outputs": [],
   "source": [
    "# Divide data into traning and test\n",
    "# Es importante notar que se utiliza como Y la muestra que nos indica qué correo es SPAM y cual no, \n",
    "# con esto entrenaremos a nuestro sistema\n",
    "X_train, X_test, Y_train, Y_test = train_test_split(df[df.columns[0:-1]], df[df.columns[-1]], train_size = 0.75)"
   ]
  },
  {
   "cell_type": "markdown",
   "metadata": {},
   "source": [
    "Utilizar sklearn nos evita el normalizar los datos porque ya lo hace por nosotros"
   ]
  },
  {
   "cell_type": "markdown",
   "metadata": {},
   "source": [
    "### Calculamos probabilidad de que sea SPAM"
   ]
  },
  {
   "cell_type": "code",
   "execution_count": 110,
   "metadata": {
    "collapsed": true
   },
   "outputs": [],
   "source": [
    "P_Spam = float(sum(Y_train))/len(Y_train)\n",
    "P_No_Spam = 1 - P_Spam"
   ]
  },
  {
   "cell_type": "markdown",
   "metadata": {},
   "source": [
    "### Calcular P(X | SPAM)"
   ]
  },
  {
   "cell_type": "code",
   "execution_count": 111,
   "metadata": {
    "collapsed": true
   },
   "outputs": [],
   "source": [
    "mediaS = np.mean(X_train[Y_train == 1], axis = 0)\n",
    "dsS = np.std (X_train[Y_train == 1], axis = 0)\n",
    "mediaNS = np.mean(X_train[Y_train == 0], axis = 0)\n",
    "dsNS = np.std(X_train[Y_train == 0], axis = 0)"
   ]
  },
  {
   "cell_type": "markdown",
   "metadata": {},
   "source": [
    "### Obtener los valores que son SPAM y los que no son SPAM"
   ]
  },
  {
   "cell_type": "code",
   "execution_count": 112,
   "metadata": {
    "collapsed": true
   },
   "outputs": [],
   "source": [
    "# Convierto los valores a arrays porque de lo contrario no puedo calcular los valores que son Spam y los que no.\n",
    "X_train = np.array(X_train)\n",
    "Y_train = np.array(Y_train)\n",
    "X_test = np.array(X_test)\n",
    "Y_test = np.array(Y_test)"
   ]
  },
  {
   "cell_type": "code",
   "execution_count": 113,
   "metadata": {
    "collapsed": true
   },
   "outputs": [],
   "source": [
    "# Itero en los arrays establecidos para establecer cuales son SPAM y cuales no.\n",
    "# Con estos ciclos se crean nuevos arrays con ambos valores\n",
    "Values_Spam = np.array([X_train[i] for i in range(len(X_train)) if Y_train[i]==1])\n",
    "Values_No_Spam = np.array([X_train[i] for i in range(len(X_train)) if Y_train[i]==0])"
   ]
  },
  {
   "cell_type": "markdown",
   "metadata": {},
   "source": [
    "### Calcular si es SPAM o no"
   ]
  },
  {
   "cell_type": "code",
   "execution_count": 130,
   "metadata": {
    "collapsed": true
   },
   "outputs": [],
   "source": [
    "\n",
    "def GuessIfSpam (x):\n",
    "    #Se aplican valores logarítmicos para que los valores no se hagan cada vez mas pequeños al multiplicarlos\n",
    "    Spam = np.log(P_Spam)\n",
    "    NotSpam= np.log(P_No_Spam)\n",
    "    Calc_SPAM = 0\n",
    "    Calc_No_SPAM = 0\n",
    "    \n",
    "    for i in range(len(Values_Spam[0])):\n",
    "        if mediaS[i]!= 0.0 and dsS[i]>0.0:\n",
    "            Calc_SPAM = Calc_SPAM + np.log(norm(mediaS[i],dsS[i]).pdf(x[i]))\n",
    "\n",
    "    for i in range(len(Values_No_Spam[1])):\n",
    "        if mediaNS[i]!= 0.0 and dsNS[i]>0.0:\n",
    "            Calc_No_SPAM = Calc_No_SPAM + np.log(norm(mediaNS[i],dsNS[i]).pdf(x[i]))\n",
    "\n",
    "    if (Spam + Calc_SPAM) > (NotSpam + Calc_No_SPAM):\n",
    "        return 1\n",
    "    else:\n",
    "        return 0"
   ]
  },
  {
   "cell_type": "code",
   "execution_count": 131,
   "metadata": {},
   "outputs": [
    {
     "data": {
      "text/plain": [
       "array([[  0.00000000e+00,   0.00000000e+00,   0.00000000e+00, ...,\n",
       "          3.75000000e+00,   9.00000000e+00,   1.50000000e+01],\n",
       "       [  0.00000000e+00,   0.00000000e+00,   0.00000000e+00, ...,\n",
       "          3.08600000e+00,   5.50000000e+01,   1.42000000e+02],\n",
       "       [  0.00000000e+00,   0.00000000e+00,   0.00000000e+00, ...,\n",
       "          1.75000000e+00,   1.50000000e+01,   4.20000000e+01],\n",
       "       ..., \n",
       "       [  0.00000000e+00,   0.00000000e+00,   2.40000000e-01, ...,\n",
       "          2.77600000e+00,   1.21000000e+02,   6.22000000e+02],\n",
       "       [  0.00000000e+00,   1.93000000e+00,   7.70000000e-01, ...,\n",
       "          1.04300000e+00,   4.00000000e+00,   9.50000000e+01],\n",
       "       [  0.00000000e+00,   0.00000000e+00,   5.10000000e-01, ...,\n",
       "          1.76700000e+00,   7.00000000e+00,   9.90000000e+01]])"
      ]
     },
     "execution_count": 131,
     "metadata": {},
     "output_type": "execute_result"
    }
   ],
   "source": [
    "Values_No_Spam"
   ]
  },
  {
   "cell_type": "code",
   "execution_count": 132,
   "metadata": {
    "scrolled": true
   },
   "outputs": [
    {
     "name": "stderr",
     "output_type": "stream",
     "text": [
      "c:\\python27\\lib\\site-packages\\ipykernel_launcher.py:11: RuntimeWarning: divide by zero encountered in log\n",
      "  # This is added back by InteractiveShellApp.init_path()\n",
      "c:\\python27\\lib\\site-packages\\ipykernel_launcher.py:15: RuntimeWarning: divide by zero encountered in log\n",
      "  from ipykernel import kernelapp as app\n"
     ]
    }
   ],
   "source": [
    "Prediction = [GuessIfSpam(x) for x in X_test]"
   ]
  },
  {
   "cell_type": "code",
   "execution_count": 133,
   "metadata": {},
   "outputs": [
    {
     "data": {
      "text/plain": [
       "array([[501, 186],\n",
       "       [ 15, 449]], dtype=int64)"
      ]
     },
     "execution_count": 133,
     "metadata": {},
     "output_type": "execute_result"
    }
   ],
   "source": [
    "confusion_matrix(Y_test, Prediction)"
   ]
  },
  {
   "cell_type": "markdown",
   "metadata": {},
   "source": [
    "### La realidad"
   ]
  },
  {
   "cell_type": "code",
   "execution_count": 134,
   "metadata": {
    "collapsed": true
   },
   "outputs": [],
   "source": [
    "from sklearn.naive_bayes import GaussianNB\n",
    "gnb = GaussianNB()\n",
    "Y_Predict = gnb.fit(X_train, Y_train)"
   ]
  },
  {
   "cell_type": "code",
   "execution_count": 136,
   "metadata": {},
   "outputs": [
    {
     "data": {
      "text/plain": [
       "array([[501, 186],\n",
       "       [ 16, 448]], dtype=int64)"
      ]
     },
     "execution_count": 136,
     "metadata": {},
     "output_type": "execute_result"
    }
   ],
   "source": [
    "confusion_matrix(Y_test,Y_Predict.predict(X_test))"
   ]
  },
  {
   "cell_type": "markdown",
   "metadata": {},
   "source": [
    "Podemos observar que nuestro modelo predictivo se aproxima muchísimo a la realidad"
   ]
  },
  {
   "cell_type": "markdown",
   "metadata": {},
   "source": [
    "### Bibliografía\n",
    "\n",
    "https://appliedmachinelearning.wordpress.com/2017/01/23/email-spam-filter-python-scikit-learn/ <br />\n",
    "https://www.analyticsvidhya.com/blog/2015/09/naive-bayes-explained/ <br />\n",
    "http://scikit-learn.org/stable/modules/naive_bayes.html <br />\n",
    "https://appliedmachinelearning.wordpress.com/2017/05/23/understanding-naive-bayes-classifier-from-scratch-python-code/ <br />"
   ]
  },
  {
   "cell_type": "code",
   "execution_count": null,
   "metadata": {
    "collapsed": true
   },
   "outputs": [],
   "source": []
  }
 ],
 "metadata": {
  "kernelspec": {
   "display_name": "Python 2",
   "language": "python",
   "name": "python2"
  },
  "language_info": {
   "codemirror_mode": {
    "name": "ipython",
    "version": 2
   },
   "file_extension": ".py",
   "mimetype": "text/x-python",
   "name": "python",
   "nbconvert_exporter": "python",
   "pygments_lexer": "ipython2",
   "version": "2.7.13"
  }
 },
 "nbformat": 4,
 "nbformat_minor": 2
}
